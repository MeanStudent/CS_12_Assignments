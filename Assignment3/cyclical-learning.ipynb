{
 "cells": [
  {
   "cell_type": "code",
   "execution_count": 1,
   "metadata": {},
   "outputs": [],
   "source": [
    "# set the matplotlib backend so figures can be saved in the background\n",
    "import matplotlib\n",
    "\n",
    "matplotlib.use(\"Agg\")\n",
    "\n",
    "# import the necessary packages\n",
    "from pyimagesearch.minigooglenet import MiniGoogLeNet\n",
    "from pyimagesearch.clr_callback import CyclicLR\n",
    "from pyimagesearch import config\n",
    "from pyimagesearch import learningratefinder\n",
    "from sklearn.preprocessing import LabelBinarizer\n",
    "from sklearn.metrics import classification_report\n",
    "from tensorflow.keras.preprocessing.image import ImageDataGenerator\n",
    "from tensorflow.keras.optimizers import SGD\n",
    "from tensorflow.keras.datasets import fashion_mnist\n",
    "# from tensorflow.keras.datasets import cifar10\n",
    "import matplotlib.pyplot as plt\n",
    "import numpy as np\n",
    "import cv2\n",
    "import sys"
   ]
  },
  {
   "cell_type": "code",
   "execution_count": 2,
   "metadata": {},
   "outputs": [
    {
     "name": "stdout",
     "output_type": "stream",
     "text": [
      "[INFO] loading Fashion MNIST data...\n"
     ]
    }
   ],
   "source": [
    "img_witdth, img_height = 32, 32\n",
    "\n",
    "\n",
    "# load the training and testing data, converting the images from\n",
    "# integers to floats\n",
    "print(\"[INFO] loading Fashion MNIST data...\")\n",
    "\n",
    "((trainX, trainY), (testX, testY)) = fashion_mnist.load_data()\n",
    "# ((trainX, trainY), (testX, testY)) = cifar10.load_data()\n",
    "trainX = trainX.astype(\"float\")\n",
    "testX = testX.astype(\"float\")\n",
    "\n"
   ]
  },
  {
   "cell_type": "code",
   "execution_count": 3,
   "metadata": {},
   "outputs": [],
   "source": [
    "# apply mean subtraction to the data\n",
    "mean = np.mean(trainX, axis=0)\n",
    "trainX -= mean\n",
    "testX -= mean\n",
    "\n",
    "# Fashion MNIST images are 28x28 but the network we will be training\n",
    "# is expecting 32x32 images\n",
    "trainX = np.array([cv2.resize(x, (img_witdth, img_height)) for x in trainX])\n",
    "testX = np.array([cv2.resize(x, (img_witdth, img_height)) for x in testX])\n",
    "\n",
    "# scale the pixel intensities to the range [0, 1]\n",
    "trainX = trainX.astype(\"float\") / 255.0\n",
    "testX = testX.astype(\"float\") / 255.0\n",
    "\n",
    "\n",
    "# reshape the data matrices to include a channel dimension (required\n",
    "# for training)\n",
    "\n",
    "trainX = trainX.reshape((trainX.shape[0], img_witdth, img_height, 1))\n",
    "testX = testX.reshape((testX.shape[0], img_witdth, img_height, 1))\n",
    "\n",
    "\n",
    "# convert the labels from integers to vectors\n",
    "lb = LabelBinarizer()\n",
    "trainY = lb.fit_transform(trainY)\n",
    "testY = lb.transform(testY)\n",
    "\n",
    "# construct the image generator for data augmentation\n",
    "aug = ImageDataGenerator(\n",
    "    width_shift_range=0.1,\n",
    "    height_shift_range=0.1,\n",
    "    horizontal_flip=True,\n",
    "    fill_mode=\"nearest\",\n",
    ")\n",
    "\n"
   ]
  },
  {
   "cell_type": "code",
   "execution_count": 4,
   "metadata": {
    "scrolled": false
   },
   "outputs": [
    {
     "name": "stdout",
     "output_type": "stream",
     "text": [
      "[INFO] compiling model...\n"
     ]
    },
    {
     "name": "stderr",
     "output_type": "stream",
     "text": [
      "C:\\Learning\\SoftWare\\anaconda\\lib\\site-packages\\keras\\optimizer_v2\\gradient_descent.py:102: UserWarning: The `lr` argument is deprecated, use `learning_rate` instead.\n",
      "  super(SGD, self).__init__(name, **kwargs)\n"
     ]
    }
   ],
   "source": [
    "# initialize the optimizer and model\n",
    "print(\"[INFO] compiling model...\")\n",
    "opt = SGD(lr=config.MIN_LR, momentum=0.9)\n",
    "model = MiniGoogLeNet.build(width=img_witdth, height=img_height, depth=1, classes=10)\n",
    "model.compile(loss=\"categorical_crossentropy\", optimizer=opt, metrics=[\"accuracy\"])\n",
    "\n"
   ]
  },
  {
   "cell_type": "code",
   "execution_count": 5,
   "metadata": {},
   "outputs": [
    {
     "name": "stdout",
     "output_type": "stream",
     "text": [
      "[INFO] using 'triangular' method\n"
     ]
    }
   ],
   "source": [
    "# initialize the cyclical learning rate callback\n",
    "print(\"[INFO] using '{}' method\".format(config.CLR_METHOD))\n",
    "clr = CyclicLR(\n",
    "    mode=config.CLR_METHOD,\n",
    "    base_lr=config.MIN_LR,\n",
    "    max_lr=config.MAX_LR,\n",
    "    step_size=config.STEP_SIZE * (trainX.shape[0] // config.BATCH_SIZE),\n",
    ")\n",
    "\n"
   ]
  },
  {
   "cell_type": "code",
   "execution_count": 6,
   "metadata": {},
   "outputs": [
    {
     "name": "stdout",
     "output_type": "stream",
     "text": [
      "[INFO] training network...\n",
      "Epoch 1/5\n",
      "937/937 [==============================] - 29s 27ms/step - loss: 0.7811 - accuracy: 0.7200 - val_loss: 5.3475 - val_accuracy: 0.4898\n",
      "Epoch 2/5\n",
      "937/937 [==============================] - 24s 26ms/step - loss: 0.7561 - accuracy: 0.7453 - val_loss: 206.5527 - val_accuracy: 0.1675\n",
      "Epoch 3/5\n",
      "937/937 [==============================] - 24s 25ms/step - loss: 0.9780 - accuracy: 0.6678 - val_loss: 0.7739 - val_accuracy: 0.7911\n",
      "Epoch 4/5\n",
      "937/937 [==============================] - 24s 26ms/step - loss: 1.2574 - accuracy: 0.5683 - val_loss: 1.0464 - val_accuracy: 0.6626\n",
      "Epoch 5/5\n",
      "937/937 [==============================] - 24s 26ms/step - loss: 1.1646 - accuracy: 0.5933 - val_loss: 121.3887 - val_accuracy: 0.2396\n"
     ]
    }
   ],
   "source": [
    "# train the network\n",
    "print(\"[INFO] training network...\")\n",
    "H = model.fit(\n",
    "    x=aug.flow(trainX, trainY, batch_size=config.BATCH_SIZE),\n",
    "    validation_data=(testX, testY),\n",
    "    steps_per_epoch=trainX.shape[0] // config.BATCH_SIZE,\n",
    "    epochs=config.NUM_EPOCHS,\n",
    "    callbacks=[clr],\n",
    "    verbose=1,\n",
    ")\n"
   ]
  },
  {
   "cell_type": "code",
   "execution_count": 7,
   "metadata": {},
   "outputs": [
    {
     "name": "stdout",
     "output_type": "stream",
     "text": [
      "[INFO] finding learning rate...\n",
      "Epoch 1/3\n",
      "938/938 [==============================] - 0s 437us/step - loss: 9.4927 - accuracy: 0.2717\n"
     ]
    }
   ],
   "source": [
    "# initialize the learning rate finder and then train with learning\n",
    "# rates ranging from 1e-10 to 1e+1\n",
    "print(\"[INFO] finding learning rate...\")\n",
    "lrf = learningratefinder.LearningRateFinder(model)\n",
    "lrf.find(\n",
    "    aug.flow(trainX, trainY, batch_size=config.BATCH_SIZE),\n",
    "    1e-10,\n",
    "    1e1,\n",
    "    stepsPerEpoch=np.ceil((len(trainX) / float(config.BATCH_SIZE))),\n",
    "    batchSize=config.BATCH_SIZE,\n",
    ")"
   ]
  },
  {
   "cell_type": "code",
   "execution_count": 8,
   "metadata": {},
   "outputs": [
    {
     "name": "stderr",
     "output_type": "stream",
     "text": [
      "C:\\Users\\KaiYu\\Desktop\\Assignment3\\pyimagesearch\\learningratefinder.py:171: UserWarning: Matplotlib is currently using agg, which is a non-GUI backend, so cannot show the figure.\n",
      "  plt.show()\n"
     ]
    }
   ],
   "source": [
    "# plot the loss for the various learning rates and save the\n",
    "# resulting plot to disk\n",
    "lrf.plot_loss()\n",
    "plt.savefig(config.LRFIND_PLOT_PATH)"
   ]
  }
 ],
 "metadata": {
  "kernelspec": {
   "display_name": "Python 3 (ipykernel)",
   "language": "python",
   "name": "python3"
  },
  "language_info": {
   "codemirror_mode": {
    "name": "ipython",
    "version": 3
   },
   "file_extension": ".py",
   "mimetype": "text/x-python",
   "name": "python",
   "nbconvert_exporter": "python",
   "pygments_lexer": "ipython3",
   "version": "3.9.12"
  }
 },
 "nbformat": 4,
 "nbformat_minor": 4
}
